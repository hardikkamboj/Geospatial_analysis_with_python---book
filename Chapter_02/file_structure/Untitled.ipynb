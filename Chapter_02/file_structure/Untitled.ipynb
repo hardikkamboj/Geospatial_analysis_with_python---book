{
 "cells": [
  {
   "cell_type": "code",
   "execution_count": 1,
   "id": "eaea6086",
   "metadata": {},
   "outputs": [],
   "source": [
    "import struct"
   ]
  },
  {
   "cell_type": "code",
   "execution_count": 2,
   "id": "07e61a2d",
   "metadata": {},
   "outputs": [],
   "source": [
    "f = open(\"hancock/hancock.shp\",\"rb\")"
   ]
  },
  {
   "cell_type": "code",
   "execution_count": 4,
   "id": "74ef9439",
   "metadata": {},
   "outputs": [
    {
     "data": {
      "text/plain": [
       "36"
      ]
     },
     "execution_count": 4,
     "metadata": {},
     "output_type": "execute_result"
    }
   ],
   "source": [
    "f.seek(36)"
   ]
  },
  {
   "cell_type": "code",
   "execution_count": 5,
   "id": "b410b820",
   "metadata": {},
   "outputs": [
    {
     "data": {
      "text/plain": [
       "(-89.6904544701547,)"
      ]
     },
     "execution_count": 5,
     "metadata": {},
     "output_type": "execute_result"
    }
   ],
   "source": [
    "struct.unpack(\"<d\", f.read(8))"
   ]
  },
  {
   "cell_type": "code",
   "execution_count": 6,
   "id": "bc5baa7e",
   "metadata": {},
   "outputs": [
    {
     "data": {
      "text/plain": [
       "(30.173943486533133,)"
      ]
     },
     "execution_count": 6,
     "metadata": {},
     "output_type": "execute_result"
    }
   ],
   "source": [
    "struct.unpack(\"<d\", f.read(8))"
   ]
  },
  {
   "cell_type": "code",
   "execution_count": null,
   "id": "ddb8b5bd",
   "metadata": {},
   "outputs": [],
   "source": []
  }
 ],
 "metadata": {
  "kernelspec": {
   "display_name": "Python 3",
   "language": "python",
   "name": "python3"
  },
  "language_info": {
   "codemirror_mode": {
    "name": "ipython",
    "version": 3
   },
   "file_extension": ".py",
   "mimetype": "text/x-python",
   "name": "python",
   "nbconvert_exporter": "python",
   "pygments_lexer": "ipython3",
   "version": "3.8.2"
  }
 },
 "nbformat": 4,
 "nbformat_minor": 5
}

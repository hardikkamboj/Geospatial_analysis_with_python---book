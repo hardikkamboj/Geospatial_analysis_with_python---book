{
 "cells": [
  {
   "cell_type": "code",
   "execution_count": 1,
   "id": "5b50c362",
   "metadata": {},
   "outputs": [],
   "source": [
    "import shapefile "
   ]
  },
  {
   "cell_type": "code",
   "execution_count": 2,
   "id": "613bca48",
   "metadata": {},
   "outputs": [],
   "source": [
    "r = shapefile.Reader('MSCities_Geo_Pts')"
   ]
  },
  {
   "cell_type": "code",
   "execution_count": 3,
   "id": "f33980b1",
   "metadata": {},
   "outputs": [
    {
     "data": {
      "text/plain": [
       "<shapefile.Reader at 0x7feb08770e80>"
      ]
     },
     "execution_count": 3,
     "metadata": {},
     "output_type": "execute_result"
    }
   ],
   "source": [
    "r"
   ]
  },
  {
   "cell_type": "code",
   "execution_count": 4,
   "id": "6e52ef2c",
   "metadata": {},
   "outputs": [
    {
     "data": {
      "text/plain": [
       "[-91.38804855553174, 30.29314882296931, -88.18631833931401, 34.96091138678437]"
      ]
     },
     "execution_count": 4,
     "metadata": {},
     "output_type": "execute_result"
    }
   ],
   "source": [
    " r.bbox"
   ]
  },
  {
   "cell_type": "code",
   "execution_count": 5,
   "id": "3acf7e24",
   "metadata": {},
   "outputs": [
    {
     "data": {
      "text/plain": [
       "1"
      ]
     },
     "execution_count": 5,
     "metadata": {},
     "output_type": "execute_result"
    }
   ],
   "source": [
    "r.shapeType"
   ]
  },
  {
   "cell_type": "code",
   "execution_count": 6,
   "id": "cade9611",
   "metadata": {},
   "outputs": [
    {
     "data": {
      "text/plain": [
       "298"
      ]
     },
     "execution_count": 6,
     "metadata": {},
     "output_type": "execute_result"
    }
   ],
   "source": [
    "r.numRecords"
   ]
  },
  {
   "cell_type": "code",
   "execution_count": 7,
   "id": "e2c76463",
   "metadata": {},
   "outputs": [
    {
     "data": {
      "text/plain": [
       "[('DeletionFlag', 'C', 1, 0),\n",
       " ['STATEFP10', 'C', 2, 0],\n",
       " ['PLACEFP10', 'C', 5, 0],\n",
       " ['PLACENS10', 'C', 8, 0],\n",
       " ['GEOID10', 'C', 7, 0],\n",
       " ['NAME10', 'C', 100, 0],\n",
       " ['NAMELSAD10', 'C', 100, 0],\n",
       " ['LSAD10', 'C', 2, 0],\n",
       " ['CLASSFP10', 'C', 2, 0],\n",
       " ['PCICBSA10', 'C', 1, 0],\n",
       " ['PCINECTA10', 'C', 1, 0],\n",
       " ['MTFCC10', 'C', 5, 0],\n",
       " ['FUNCSTAT10', 'C', 1, 0],\n",
       " ['ALAND10', 'N', 14, 0],\n",
       " ['AWATER10', 'N', 14, 0],\n",
       " ['INTPTLAT10', 'C', 11, 0],\n",
       " ['INTPTLON10', 'C', 12, 0]]"
      ]
     },
     "execution_count": 7,
     "metadata": {},
     "output_type": "execute_result"
    }
   ],
   "source": [
    "r.fields"
   ]
  },
  {
   "cell_type": "code",
   "execution_count": 8,
   "id": "a5e33c84",
   "metadata": {},
   "outputs": [],
   "source": [
    "temp = r.record(2)"
   ]
  },
  {
   "cell_type": "code",
   "execution_count": 9,
   "id": "d7311e97",
   "metadata": {},
   "outputs": [],
   "source": [
    "fields = [item[0] for item in r.fields[1:]]"
   ]
  },
  {
   "cell_type": "code",
   "execution_count": 10,
   "id": "29008467",
   "metadata": {},
   "outputs": [
    {
     "data": {
      "text/plain": [
       "['STATEFP10',\n",
       " 'PLACEFP10',\n",
       " 'PLACENS10',\n",
       " 'GEOID10',\n",
       " 'NAME10',\n",
       " 'NAMELSAD10',\n",
       " 'LSAD10',\n",
       " 'CLASSFP10',\n",
       " 'PCICBSA10',\n",
       " 'PCINECTA10',\n",
       " 'MTFCC10',\n",
       " 'FUNCSTAT10',\n",
       " 'ALAND10',\n",
       " 'AWATER10',\n",
       " 'INTPTLAT10',\n",
       " 'INTPTLON10']"
      ]
     },
     "execution_count": 10,
     "metadata": {},
     "output_type": "execute_result"
    }
   ],
   "source": [
    "fields"
   ]
  },
  {
   "cell_type": "code",
   "execution_count": 11,
   "id": "ace44778",
   "metadata": {},
   "outputs": [
    {
     "data": {
      "text/plain": [
       "16"
      ]
     },
     "execution_count": 11,
     "metadata": {},
     "output_type": "execute_result"
    }
   ],
   "source": [
    "len(fields)"
   ]
  },
  {
   "cell_type": "code",
   "execution_count": 12,
   "id": "972c2bc0",
   "metadata": {},
   "outputs": [
    {
     "data": {
      "text/plain": [
       "Record #2: ['28', '16620', '02406337', '2816620', 'Crosby', 'Crosby town', '43', 'C1', 'N', 'N', 'G4110', 'A', 5489412, 21336, '+31.2742552', '-091.0614840']"
      ]
     },
     "execution_count": 12,
     "metadata": {},
     "output_type": "execute_result"
    }
   ],
   "source": [
    "temp"
   ]
  },
  {
   "cell_type": "code",
   "execution_count": 13,
   "id": "1184cda4",
   "metadata": {},
   "outputs": [
    {
     "data": {
      "text/plain": [
       "16"
      ]
     },
     "execution_count": 13,
     "metadata": {},
     "output_type": "execute_result"
    }
   ],
   "source": [
    "len(temp)"
   ]
  },
  {
   "cell_type": "code",
   "execution_count": 14,
   "id": "8f95821f",
   "metadata": {},
   "outputs": [],
   "source": [
    "info = {i:j for i,j in zip(fields, temp)}"
   ]
  },
  {
   "cell_type": "code",
   "execution_count": 15,
   "id": "0ec9cbcd",
   "metadata": {},
   "outputs": [
    {
     "data": {
      "text/plain": [
       "{'STATEFP10': '28',\n",
       " 'PLACEFP10': '16620',\n",
       " 'PLACENS10': '02406337',\n",
       " 'GEOID10': '2816620',\n",
       " 'NAME10': 'Crosby',\n",
       " 'NAMELSAD10': 'Crosby town',\n",
       " 'LSAD10': '43',\n",
       " 'CLASSFP10': 'C1',\n",
       " 'PCICBSA10': 'N',\n",
       " 'PCINECTA10': 'N',\n",
       " 'MTFCC10': 'G4110',\n",
       " 'FUNCSTAT10': 'A',\n",
       " 'ALAND10': 5489412,\n",
       " 'AWATER10': 21336,\n",
       " 'INTPTLAT10': '+31.2742552',\n",
       " 'INTPTLON10': '-091.0614840'}"
      ]
     },
     "execution_count": 15,
     "metadata": {},
     "output_type": "execute_result"
    }
   ],
   "source": [
    "info"
   ]
  },
  {
   "cell_type": "code",
   "execution_count": 21,
   "id": "629133d6",
   "metadata": {},
   "outputs": [],
   "source": [
    "goem = r.shape(0)"
   ]
  },
  {
   "cell_type": "code",
   "execution_count": 22,
   "id": "a1d8a4ea",
   "metadata": {},
   "outputs": [
    {
     "data": {
      "text/plain": [
       "Shape #0: POINT"
      ]
     },
     "execution_count": 22,
     "metadata": {},
     "output_type": "execute_result"
    }
   ],
   "source": [
    "goem"
   ]
  },
  {
   "cell_type": "code",
   "execution_count": 26,
   "id": "0492fc53",
   "metadata": {},
   "outputs": [
    {
     "data": {
      "text/plain": [
       "[[-90.98343326763826, 31.9558035947602]]"
      ]
     },
     "execution_count": 26,
     "metadata": {},
     "output_type": "execute_result"
    }
   ],
   "source": [
    "goem.points"
   ]
  },
  {
   "cell_type": "code",
   "execution_count": null,
   "id": "f54f9b67",
   "metadata": {},
   "outputs": [],
   "source": []
  }
 ],
 "metadata": {
  "kernelspec": {
   "display_name": "Python 3",
   "language": "python",
   "name": "python3"
  },
  "language_info": {
   "codemirror_mode": {
    "name": "ipython",
    "version": 3
   },
   "file_extension": ".py",
   "mimetype": "text/x-python",
   "name": "python",
   "nbconvert_exporter": "python",
   "pygments_lexer": "ipython3",
   "version": "3.8.2"
  }
 },
 "nbformat": 4,
 "nbformat_minor": 5
}
